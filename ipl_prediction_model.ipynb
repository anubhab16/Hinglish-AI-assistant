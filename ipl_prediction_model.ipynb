{
  "nbformat": 4,
  "nbformat_minor": 0,
  "metadata": {
    "colab": {
      "provenance": [],
      "gpuType": "T4",
      "authorship_tag": "ABX9TyPpZaO5+OzV0fRuVeQ250HI",
      "include_colab_link": true
    },
    "kernelspec": {
      "name": "python3",
      "display_name": "Python 3"
    },
    "language_info": {
      "name": "python"
    },
    "accelerator": "GPU"
  },
  "cells": [
    {
      "cell_type": "markdown",
      "metadata": {
        "id": "view-in-github",
        "colab_type": "text"
      },
      "source": [
        "<a href=\"https://colab.research.google.com/github/anubhab16/Hinglish-AI-assistant/blob/main/ipl_prediction_model.ipynb\" target=\"_parent\"><img src=\"https://colab.research.google.com/assets/colab-badge.svg\" alt=\"Open In Colab\"/></a>"
      ]
    },
    {
      "cell_type": "code",
      "execution_count": null,
      "metadata": {
        "id": "V6ych5drmjx4"
      },
      "outputs": [],
      "source": [
        "import pandas as pd\n",
        "import numpy as np\n",
        "\n",
        "matches = pd.read_csv(\"/content/matches.csv\")\n",
        "deliveries = pd.read_csv(\"/content/deliveries.csv\")\n",
        "\n",
        "# Clean up data\n",
        "matches.dropna(subset=[\"winner\"], inplace=True)\n",
        "matches = matches.rename(columns={\"id\": \"match_id\"})\n",
        "\n",
        "# Total runs per team per match\n",
        "total_scores = deliveries.groupby([\"match_id\", \"batting_team\"])[\"total_runs\"].sum().reset_index()\n",
        "total_scores = total_scores.rename(columns={\"total_runs\": \"final_score\"})\n",
        "\n",
        "# Merge scores into match data\n",
        "df = matches.merge(total_scores, left_on=[\"match_id\", \"team1\"], right_on=[\"match_id\", \"batting_team\"], how=\"left\")\n",
        "df = df.rename(columns={\"final_score\": \"team1_score\"}).drop(\"batting_team\", axis=1)\n",
        "\n",
        "df = df.merge(total_scores, left_on=[\"match_id\", \"team2\"], right_on=[\"match_id\", \"batting_team\"], how=\"left\")\n",
        "df = df.rename(columns={\"final_score\": \"team2_score\"}).drop(\"batting_team\", axis=1)\n",
        "\n",
        "# Remove matches where scores are missing\n",
        "df = df.dropna(subset=[\"team1_score\", \"team2_score\"])\n"
      ]
    },
    {
      "cell_type": "code",
      "source": [
        "# Sort by team and date\n",
        "matches[\"date\"] = pd.to_datetime(matches[\"date\"])\n",
        "matches = matches.sort_values(\"date\")\n",
        "\n",
        "# Compute rolling stats (3 recent matches) for each team\n",
        "recent_stats = deliveries.groupby([\"batting_team\", \"match_id\"])[\"total_runs\"].sum().reset_index()\n",
        "rolling_stats = recent_stats.groupby(\"batting_team\")[\"total_runs\"].rolling(window=3, min_periods=1).mean().reset_index()\n",
        "rolling_stats = rolling_stats.rename(columns={\"total_runs\": \"avg_runs_last3\"})\n",
        "\n",
        "# Ensure 'match_id' is available for merging\n",
        "# The 'total_runs' column was renamed to 'avg_runs_last3', so we need to use that for merging\n",
        "rolling_stats = rolling_stats.merge(recent_stats[[\"batting_team\", \"match_id\", \"total_runs\"]], on=[\"batting_team\"], how=\"left\").drop_duplicates(subset=[\"batting_team\", \"level_1\"]) # Merge to get match_id back # Changed merge 'on' condition\n",
        "rolling_stats = rolling_stats[[\"batting_team\", \"match_id\", \"avg_runs_last3\"]] # Keep only necessary columns\n",
        "\n",
        "\n",
        "# Merge rolling stats to matches\n",
        "df = df.merge(rolling_stats, left_on=[\"team1\", \"match_id\"], right_on=[\"batting_team\", \"match_id\"], how=\"left\")\n",
        "df = df.rename(columns={\"avg_runs_last3\": \"team1_recent_avg\"}).drop(\"batting_team\", axis=1)\n",
        "\n",
        "df = df.merge(rolling_stats, left_on=[\"team2\", \"match_id\"], right_on=[\"batting_team\", \"match_id\"], how=\"left\")\n",
        "df = df.rename(columns={\"avg_runs_last3\": \"team2_recent_avg\"}).drop(\"batting_team\", axis=1)\n",
        "\n",
        "df = df.dropna()"
      ],
      "metadata": {
        "id": "rR-kiBvDo3U9"
      },
      "execution_count": null,
      "outputs": []
    },
    {
      "cell_type": "code",
      "source": [
        "# Match winner: binary\n",
        "df[\"match_winner\"] = np.where(df[\"winner\"] == df[\"team1\"], 1, 0)\n",
        "\n",
        "# Winning and losing score\n",
        "df[\"winning_score\"] = df[[\"team1_score\", \"team2_score\"]].max(axis=1)\n",
        "df[\"losing_score\"] = df[[\"team1_score\", \"team2_score\"]].min(axis=1)\n"
      ],
      "metadata": {
        "id": "jvTXnTjPpNAT"
      },
      "execution_count": null,
      "outputs": []
    },
    {
      "cell_type": "code",
      "source": [
        "import pandas as pd\n",
        "import numpy as np\n",
        "\n",
        "matches = pd.read_csv(\"/content/matches.csv\")\n",
        "deliveries = pd.read_csv(\"/content/deliveries.csv\")\n",
        "\n",
        "# Clean up data\n",
        "matches.dropna(subset=[\"winner\"], inplace=True)\n",
        "matches = matches.rename(columns={\"id\": \"match_id\"})\n",
        "\n",
        "# Total runs per team per match\n",
        "total_scores = deliveries.groupby([\"match_id\", \"batting_team\"])[\"total_runs\"].sum().reset_index()\n",
        "total_scores = total_scores.rename(columns={\"total_runs\": \"final_score\"})\n",
        "\n",
        "# Merge scores into match data\n",
        "df = matches.merge(total_scores, left_on=[\"match_id\", \"team1\"], right_on=[\"match_id\", \"batting_team\"], how=\"left\")\n",
        "df = df.rename(columns={\"final_score\": \"team1_score\"}).drop(\"batting_team\", axis=1)\n",
        "\n",
        "df = df.merge(total_scores, left_on=[\"match_id\", \"team2\"], right_on=[\"match_id\", \"batting_team\"], how=\"left\")\n",
        "df = df.rename(columns={\"final_score\": \"team2_score\"}).drop(\"batting_team\", axis=1)\n",
        "\n",
        "# Remove matches where scores are missing\n",
        "df = df.dropna(subset=[\"team1_score\", \"team2_score\"])\n",
        "\n",
        "# Sort by team and date\n",
        "matches[\"date\"] = pd.to_datetime(matches[\"date\"])\n",
        "matches = matches.sort_values(\"date\")\n",
        "\n",
        "# Compute rolling stats (3 recent matches) for each team\n",
        "recent_stats = deliveries.groupby([\"batting_team\", \"match_id\"])[\"total_runs\"].sum().reset_index()\n",
        "rolling_stats = recent_stats.groupby(\"batting_team\")[\"total_runs\"].rolling(window=3, min_periods=1).mean().reset_index()\n",
        "rolling_stats = rolling_stats.rename(columns={\"total_runs\": \"avg_runs_last3\"})\n",
        "\n",
        "# Ensure 'match_id' is available for merging\n",
        "rolling_stats = rolling_stats.merge(recent_stats[[\"batting_team\", \"match_id\"]], on=[\"batting_team\"], how=\"left\").drop_duplicates(subset=[\"batting_team\", \"match_id\"])  # Merge to get match_id back\n",
        "rolling_stats = rolling_stats[[\"batting_team\", \"match_id\", \"avg_runs_last3\"]]  # Keep only necessary columns\n",
        "\n",
        "\n",
        "# Merge rolling stats to matches\n",
        "df = df.merge(rolling_stats, left_on=[\"team1\", \"match_id\"], right_on=[\"batting_team\", \"match_id\"], how=\"left\")\n",
        "df = df.rename(columns={\"avg_runs_last3\": \"team1_recent_avg\"}).drop(\"batting_team\", axis=1)\n",
        "\n",
        "df = df.merge(rolling_stats, left_on=[\"team2\", \"match_id\"], right_on=[\"batting_team\", \"match_id\"], how=\"left\")\n",
        "df = df.rename(columns={\"avg_runs_last3\": \"team2_recent_avg\"}).drop(\"batting_team\", axis=1)\n",
        "\n",
        "# Check if df is empty and print a message if it is\n",
        "if df.empty:\n",
        "    print(\"DataFrame 'df' is empty after merging rolling stats. Check your data and merging logic.\")\n",
        "else:\n",
        "    df = df.dropna()\n",
        "    # ... (rest of your code) ..."
      ],
      "metadata": {
        "id": "gOjEn_kppRJ0"
      },
      "execution_count": null,
      "outputs": []
    },
    {
      "cell_type": "code",
      "source": [
        "from sklearn.linear_model import LinearRegression\n",
        "from sklearn.model_selection import train_test_split\n",
        "# Assuming 'df' contains your data and 'winning_score', 'losing_score' are your target variables\n",
        "\n",
        "# **Create winning_score and losing_score columns before using them**\n",
        "df[\"match_winner\"] = np.where(df[\"winner\"] == df[\"team1\"], 1, 0)\n",
        "df[\"winning_score\"] = df[[\"team1_score\", \"team2_score\"]].max(axis=1)\n",
        "df[\"losing_score\"] = df[[\"team1_score\", \"team2_score\"]].min(axis=1)\n",
        "\n",
        "# Features for prediction\n",
        "features = ['team1_recent_avg', 'team2_recent_avg', 'team1_score', 'team2_score']  # Replace with your actual feature columns\n",
        "\n",
        "# Split the data\n",
        "X = df[features]\n",
        "y_win = df['winning_score']\n",
        "y_lose = df['losing_score']\n",
        "X_train, X_test, y_win_train, y_win_test, y_lose_train, y_lose_test = train_test_split(\n",
        "    X, y_win, y_lose, test_size=0.2, random_state=42\n",
        ")\n",
        "\n",
        "# Create and train the models\n",
        "reg_win = LinearRegression()\n",
        "reg_win.fit(X_train, y_win_train)\n",
        "\n",
        "reg_lose = LinearRegression()\n",
        "reg_lose.fit(X_train, y_lose_train)\n",
        "\n",
        "\n",
        "import scipy.stats as st\n",
        "\n",
        "def get_confidence_interval(model, X, n_bootstraps=100):\n",
        "    preds = []\n",
        "    for _ in range(n_bootstraps):\n",
        "        sample = X.sample(frac=1, replace=True)\n",
        "        pred = model.predict(sample)\n",
        "        preds.append(pred)\n",
        "    preds = np.array(preds)\n",
        "    lower = np.percentile(preds, 2.5, axis=0)\n",
        "    upper = np.percentile(preds, 97.5, axis=0)\n",
        "    return lower, upper\n",
        "\n",
        "lower_win, upper_win = get_confidence_interval(reg_win, X_test)\n",
        "lower_lose, upper_lose = get_confidence_interval(reg_lose, X_test)\n",
        "\n",
        "# Print for first prediction\n",
        "print(f\"Winning score CI: {lower_win[0]:.1f} - {upper_win[0]:.1f}\")\n",
        "print(f\"Losing score CI: {lower_lose[0]:.1f} - {upper_lose[0]:.1f}\")"
      ],
      "metadata": {
        "colab": {
          "base_uri": "https://localhost:8080/"
        },
        "id": "nLKEaXSgpgyk",
        "outputId": "60827070-2c1e-482b-cb7d-54bce8029374"
      },
      "execution_count": null,
      "outputs": [
        {
          "output_type": "stream",
          "name": "stdout",
          "text": [
            "Winning score CI: 129.8 - 187.6\n",
            "Losing score CI: 46.2 - 129.4\n"
          ]
        }
      ]
    },
    {
      "cell_type": "code",
      "source": [
        "# Top player stats\n",
        "player_stats = deliveries.groupby(\"batter\")[\"batsman_runs\"].agg([\"mean\", \"sum\"]).sort_values(\"sum\", ascending=False)\n",
        "print(player_stats.head())"
      ],
      "metadata": {
        "colab": {
          "base_uri": "https://localhost:8080/"
        },
        "id": "H5cLvYigqExm",
        "outputId": "471dabb3-5eac-456e-8f60-3f5c70d0c1c2"
      },
      "execution_count": null,
      "outputs": [
        {
          "output_type": "stream",
          "name": "stdout",
          "text": [
            "               mean   sum\n",
            "batter                   \n",
            "V Kohli    1.285119  8014\n",
            "S Dhawan   1.234543  6769\n",
            "RG Sharma  1.279182  6630\n",
            "DA Warner  1.354300  6567\n",
            "SK Raina   1.325353  5536\n"
          ]
        }
      ]
    }
  ]
}